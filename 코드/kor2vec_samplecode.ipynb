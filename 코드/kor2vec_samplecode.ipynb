{
 "cells": [
  {
   "cell_type": "code",
   "execution_count": 3,
   "metadata": {},
   "outputs": [],
   "source": [
    "from kor2vec import Kor2Vec"
   ]
  },
  {
   "cell_type": "code",
   "execution_count": null,
   "metadata": {},
   "outputs": [],
   "source": [
    "from soynlp.word import WordExtractor\n",
    "from soynlp.tokenizer import LTokenizer, MaxScoreTokenizer\n",
    "from soynlp.hangle import jamo_levenshtein\n",
    "import pickle"
   ]
  },
  {
   "cell_type": "code",
   "execution_count": 3,
   "metadata": {
    "collapsed": true
   },
   "outputs": [
    {
     "name": "stdout",
     "output_type": "stream",
     "text": [
      "Reading Corpus lines\n"
     ]
    },
    {
     "name": "stderr",
     "output_type": "stream",
     "text": [
      "Spliting Lines: 100%|█████████████████████████████████████████████████████████| 1155/1155 [00:00<00:00, 1176973.06it/s]\n",
      "Corpus Sampling: 100%|██████████████████████████████████████████████████████████| 1155/1155 [00:00<00:00, 26470.80it/s]\n"
     ]
    },
    {
     "name": "stdout",
     "output_type": "stream",
     "text": [
      "Training kor2vec\n",
      "Loading Word_sample corpus\n",
      "Loading corpus finished\n",
      "CUDA Available/count: False 0\n",
      "training on  cpu\n"
     ]
    },
    {
     "name": "stderr",
     "output_type": "stream",
     "text": [
      "EP 0: 100%|████████████████████████████████████████████████████████████████████████████| 10/10 [00:02<00:00,  4.05it/s]\n"
     ]
    },
    {
     "name": "stdout",
     "output_type": "stream",
     "text": [
      "{'epoch': 0, 'train_ep_loss': 10.045737648010254}\n"
     ]
    },
    {
     "name": "stderr",
     "output_type": "stream",
     "text": [
      "EP 1: 100%|████████████████████████████████████████████████████████████████████████████| 10/10 [00:02<00:00,  4.22it/s]\n"
     ]
    },
    {
     "name": "stdout",
     "output_type": "stream",
     "text": [
      "{'epoch': 1, 'train_ep_loss': 3.8675890445709227}\n"
     ]
    },
    {
     "name": "stderr",
     "output_type": "stream",
     "text": [
      "EP 2: 100%|████████████████████████████████████████████████████████████████████████████| 10/10 [00:02<00:00,  4.32it/s]\n"
     ]
    },
    {
     "name": "stdout",
     "output_type": "stream",
     "text": [
      "{'epoch': 2, 'train_ep_loss': 2.063226342201233}\n"
     ]
    },
    {
     "name": "stderr",
     "output_type": "stream",
     "text": [
      "EP 3: 100%|████████████████████████████████████████████████████████████████████████████| 10/10 [00:02<00:00,  4.25it/s]\n"
     ]
    },
    {
     "name": "stdout",
     "output_type": "stream",
     "text": [
      "{'epoch': 3, 'train_ep_loss': 1.4267658054828645}\n"
     ]
    },
    {
     "name": "stderr",
     "output_type": "stream",
     "text": [
      "EP 4: 100%|████████████████████████████████████████████████████████████████████████████| 10/10 [00:02<00:00,  4.42it/s]\n"
     ]
    },
    {
     "name": "stdout",
     "output_type": "stream",
     "text": [
      "{'epoch': 4, 'train_ep_loss': 1.1106369495391846}\n"
     ]
    },
    {
     "name": "stderr",
     "output_type": "stream",
     "text": [
      "EP 5: 100%|████████████████████████████████████████████████████████████████████████████| 10/10 [00:02<00:00,  4.39it/s]\n"
     ]
    },
    {
     "name": "stdout",
     "output_type": "stream",
     "text": [
      "{'epoch': 5, 'train_ep_loss': 0.9246988534927368}\n"
     ]
    },
    {
     "name": "stderr",
     "output_type": "stream",
     "text": [
      "EP 6: 100%|████████████████████████████████████████████████████████████████████████████| 10/10 [00:02<00:00,  4.40it/s]\n"
     ]
    },
    {
     "name": "stdout",
     "output_type": "stream",
     "text": [
      "{'epoch': 6, 'train_ep_loss': 0.7984281837940216}\n"
     ]
    },
    {
     "name": "stderr",
     "output_type": "stream",
     "text": [
      "EP 7: 100%|████████████████████████████████████████████████████████████████████████████| 10/10 [00:02<00:00,  4.35it/s]\n"
     ]
    },
    {
     "name": "stdout",
     "output_type": "stream",
     "text": [
      "{'epoch': 7, 'train_ep_loss': 0.7034702867269516}\n"
     ]
    },
    {
     "name": "stderr",
     "output_type": "stream",
     "text": [
      "EP 8: 100%|████████████████████████████████████████████████████████████████████████████| 10/10 [00:02<00:00,  4.37it/s]\n"
     ]
    },
    {
     "name": "stdout",
     "output_type": "stream",
     "text": [
      "{'epoch': 8, 'train_ep_loss': 0.629674243927002}\n"
     ]
    },
    {
     "name": "stderr",
     "output_type": "stream",
     "text": [
      "EP 9: 100%|████████████████████████████████████████████████████████████████████████████| 10/10 [00:02<00:00,  4.40it/s]\n"
     ]
    },
    {
     "name": "stdout",
     "output_type": "stream",
     "text": [
      "{'epoch': 9, 'train_ep_loss': 0.5705081224441528}\n"
     ]
    }
   ],
   "source": [
    "kor2vec = Kor2Vec(embed_size=128)\n",
    "\n",
    "kor2vec.train(\"./korean_embedding/train_data.sampled\", \"./korean_embedding/training_log\", batch_size=128) # takes some time\n",
    "\n",
    "kor2vec.save(\"./korean_embedding/embedding.model\") # saving embedding"
   ]
  },
  {
   "cell_type": "code",
   "execution_count": 8,
   "metadata": {
    "collapsed": true
   },
   "outputs": [
    {
     "data": {
      "text/plain": [
       "tensor([[[ 0.1634,  0.0019,  0.2871,  ..., -0.3313,  0.2328,  0.5691],\n",
       "         [-0.0937, -0.0175,  0.0297,  ...,  0.0130,  0.1038, -0.1173],\n",
       "         [-0.0937,  0.4396,  0.0297,  ..., -0.2650,  0.2815,  0.2154],\n",
       "         [ 0.0656,  0.2172,  0.1910,  ..., -0.0991, -0.1523,  0.6915],\n",
       "         [-0.0937, -0.0175,  0.0297,  ..., -0.0417, -0.0377,  0.0145],\n",
       "         [-0.0937, -0.0175,  0.0297,  ..., -0.0417, -0.0377,  0.0145]],\n",
       "\n",
       "        [[ 0.1428,  0.6284,  0.5127,  ...,  0.9319, -0.7766,  0.1876],\n",
       "         [-0.0937, -0.0175,  0.0297,  ...,  0.2817,  0.7858, -0.3647],\n",
       "         [-0.0937,  0.0698,  0.0410,  ...,  0.0777,  0.0630, -0.3670],\n",
       "         [-0.0817, -0.0175,  0.0588,  ..., -0.2659, -0.3084,  0.1969],\n",
       "         [ 0.3042, -0.1521,  0.1910,  ..., -0.7956, -0.5923,  0.2232],\n",
       "         [-0.0937, -0.0175,  0.0297,  ..., -0.0417, -0.0377,  0.0145]]],\n",
       "       grad_fn=<ViewBackward>)"
      ]
     },
     "execution_count": 8,
     "metadata": {},
     "output_type": "execute_result"
    }
   ],
   "source": [
    "# test\n",
    "\n",
    "kor2vec = Kor2Vec.load(\"./korean_embedding/embedding.model\")\n",
    "kor2vec.embedding(\"김동호 교수님 수업 어때?\")\n",
    "\n",
    "input = kor2vec.to_seqs([\"김동호 교수님 수업 어때?\", \"컴퓨터보안은 언제 듣는 게 좋아요?\"], seq_len=6)\n",
    "kor2vec.forward(input)"
   ]
  }
 ],
 "metadata": {
  "kernelspec": {
   "display_name": "Python 3",
   "language": "python",
   "name": "python3"
  },
  "language_info": {
   "codemirror_mode": {
    "name": "ipython",
    "version": 3
   },
   "file_extension": ".py",
   "mimetype": "text/x-python",
   "name": "python",
   "nbconvert_exporter": "python",
   "pygments_lexer": "ipython3",
   "version": "3.6.4"
  }
 },
 "nbformat": 4,
 "nbformat_minor": 2
}
