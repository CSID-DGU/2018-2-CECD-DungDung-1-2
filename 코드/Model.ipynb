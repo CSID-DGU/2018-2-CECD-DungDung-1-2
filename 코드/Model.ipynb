{
 "cells": [
  {
   "cell_type": "code",
   "execution_count": 1,
   "metadata": {
    "collapsed": true
   },
   "outputs": [],
   "source": [
    "import torch\n",
    "import torch.nn as nn\n",
    "import torch.nn.functional as F\n",
    "\n",
    "import pickle"
   ]
  },
  {
   "cell_type": "code",
   "execution_count": 2,
   "metadata": {
    "collapsed": true
   },
   "outputs": [],
   "source": [
    "import pandas as pd\n",
    "\n",
    "from soynlp.word import WordExtractor\n",
    "from soynlp.tokenizer import LTokenizer, MaxScoreTokenizer\n",
    "\n",
    "import warnings\n",
    "warnings.filterwarnings(action='ignore', category=UserWarning, module='gensim')\n",
    "\n",
    "from gensim.models import Word2Vec"
   ]
  },
  {
   "cell_type": "code",
   "execution_count": 3,
   "metadata": {
    "collapsed": true
   },
   "outputs": [],
   "source": [
    "class Embedding:\n",
    "    def setWord2Vec(self, fileName):\n",
    "        question = pd.read_excel(fileName + '.xlsx')['question']\n",
    "        print(' read question data from ', fileName)        \n",
    "        for i in range(0,len(question)):\n",
    "            question[i] = self.onlyKorean(question[i])\n",
    "            \n",
    "        word_scores = self.calWordScores(question)\n",
    "        self.tokenizer = self.trainTokenizer(word_scores)        \n",
    "        self.word2vec = self.trainWord2Vec(question)\n",
    "        \n",
    "    def calWordScores(self, question):   \n",
    "        word_extractor = WordExtractor(\n",
    "            max_left_length=20, \n",
    "            max_right_length=20, \n",
    "            min_frequency = 20,\n",
    "            min_cohesion_forward = 0.05,\n",
    "            min_right_branching_entropy = 0.0\n",
    "        )\n",
    "        \n",
    "        word_extractor.train(question)   \n",
    "        word_scores = word_extractor.extract()\n",
    "        print(' extract and calculate ', len(word_scores), ' words')\n",
    "        return word_scores\n",
    "    \n",
    "    def onlyKorean(self, sentence):\n",
    "        korean = re.compile('[^ ㄱ-ㅣ가-힣]+') \n",
    "        result = korean.sub('', sentence)\n",
    "        return result\n",
    "    \n",
    "    def trainTokenizer(self, word_scores):\n",
    "        cohesion_scores = {word:score.cohesion_forward for word, score in word_scores.items()}\n",
    "        tokenizer = MaxScoreTokenizer(scores = cohesion_scores)\n",
    "        # tokenizer = LTokenizer(scores = cohesion_scores)\n",
    "        print(' train tokenizer')  \n",
    "        return tokenizer\n",
    "                \n",
    "    def trainWord2Vec(self, question):\n",
    "        # print(self.question)\n",
    "        tQuestion = [self.tokenizeSentence(q) for q in question]\n",
    "        \n",
    "        word2vec = Word2Vec(\n",
    "            tQuestion, \n",
    "            size = 50, \n",
    "            window = 2, \n",
    "            min_count = 1, \n",
    "            iter = 100, \n",
    "            sg = 1\n",
    "        )\n",
    "        print(' train word2vec') \n",
    "        return word2vec\n",
    "    \n",
    "    # sent는 하나의 문장\n",
    "    def tokenizeSentence(self, sent): \n",
    "        return self.tokenizer.tokenize(sent)\n",
    "    \n",
    "    # words 는 단어들의 리스트 [\"김동호\", \"교수님\"]\n",
    "    def vectorizeWord(self, words):          \n",
    "        return self.word2vec.wv[words] \n",
    "    \n",
    "    def vectorizeSentence(self, sent):\n",
    "        result = []\n",
    "        for s in sent:\n",
    "            s = self.onlyKorean(s)\n",
    "            tSent = self.tokenizeSentence(s) \n",
    "            vec = self.vectorizeWord(tSent)\n",
    "            result.append(torch.FloatTensor(vec))\n",
    "        return result\n",
    "    \n",
    "    def vocabSize(self):\n",
    "        return len(self.word2vec.wv.vocab)"
   ]
  },
  {
   "cell_type": "code",
   "execution_count": 11,
   "metadata": {},
   "outputs": [],
   "source": [
    "# embedding 모델은 따로\n",
    "class SentenceClassifier(nn.Module):\n",
    "    def __init__(self, embedding_dim, hidden_dim, vocabsize, label_size):\n",
    "        super(SentenceClassifier, self).__init__()\n",
    "        self.hidden_dim = hidden_dim\n",
    "        self.lsm = nn.LSTM(embedding_dim, hidden_dim)\n",
    "        self.hidden2label = nn.Linear(hidden_dim, label_size)\n",
    "        self.hidden = self.init_hidden()\n",
    "        \n",
    "    def init_hidden(self):\n",
    "        # Before we've done anything, we dont have any hidden state.\n",
    "        # Refer to the Pytorch documentation to see exactly\n",
    "        # why they have this dimensionality.\n",
    "        # The axes semantics are (num_layers, minibatch_size, hidden_dim)\n",
    "        return (torch.zeros(1, 1, self.hidden_dim),\n",
    "               torch.zeros(1, 1, self.hidden_dim))\n",
    "    \n",
    "    # x = embedding.vectorizeSentence(list of sentence)\n",
    "    def forward(self, x):\n",
    "        x = embedding.vectorizeSentence(x)\n",
    "        lstm_out, self.hidden = self.lstm(x, self.hidden)\n",
    "        y = self.hidden2label(lstm_out)"
   ]
  },
  {
   "cell_type": "code",
   "execution_count": null,
   "metadata": {
    "collapsed": true
   },
   "outputs": [],
   "source": []
  },
  {
   "cell_type": "code",
   "execution_count": 12,
   "metadata": {},
   "outputs": [],
   "source": [
    "model = SentenceClassifier(50, 30, embedding.vocabSize(), 6)\n",
    "\n",
    "loss_function = nn.NLLLoss()\n",
    "optimizer = optim.SGD(model.parameters(), lr = 0.1)\n",
    "\n",
    "with open('Embedding.pkl','rb') as f:\n",
    "    embedding = pickle.load(f)"
   ]
  },
  {
   "cell_type": "code",
   "execution_count": null,
   "metadata": {
    "collapsed": true
   },
   "outputs": [],
   "source": []
  }
 ],
 "metadata": {
  "kernelspec": {
   "display_name": "Python 3",
   "language": "python",
   "name": "python3"
  },
  "language_info": {
   "codemirror_mode": {
    "name": "ipython",
    "version": 3
   },
   "file_extension": ".py",
   "mimetype": "text/x-python",
   "name": "python",
   "nbconvert_exporter": "python",
   "pygments_lexer": "ipython3",
   "version": "3.6.2"
  }
 },
 "nbformat": 4,
 "nbformat_minor": 2
}
